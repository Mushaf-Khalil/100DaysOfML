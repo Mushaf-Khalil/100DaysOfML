{
  "nbformat": 4,
  "nbformat_minor": 0,
  "metadata": {
    "colab": {
      "private_outputs": true,
      "provenance": []
    },
    "kernelspec": {
      "name": "python3",
      "display_name": "Python 3"
    },
    "language_info": {
      "name": "python"
    }
  },
  "cells": [
    {
      "cell_type": "code",
      "execution_count": null,
      "metadata": {
        "id": "dqUYEUqdP7wu"
      },
      "outputs": [],
      "source": [
        "# 1. Mean Calculation (Average)\n",
        "def mean(numbers):\n",
        "    return sum(numbers) / len(numbers)  # Total sum divided by count\n",
        "\n",
        "nums = [1, 2, 2, 3, 4, 4, 4, 5]\n",
        "print(\"Mean:\", mean(nums))\n"
      ]
    },
    {
      "cell_type": "code",
      "source": [
        "# 2. Median Calculation (Middle Value)\n",
        "def median(numbers):\n",
        "    numbers.sort()  # Sort numbers first\n",
        "    mid = len(numbers) // 2  # Find middle index\n",
        "    if len(numbers) % 2 == 0:\n",
        "        return (numbers[mid] + numbers[mid - 1]) / 2  # Avg of middle two numbers\n",
        "    return numbers[mid]  # Return middle number\n",
        "\n",
        "print(\"Median:\", median(nums))\n"
      ],
      "metadata": {
        "id": "RZMC9ImSQTcX"
      },
      "execution_count": null,
      "outputs": []
    },
    {
      "cell_type": "code",
      "source": [
        "# 3. Mode Calculation (Most Frequent Number)\n",
        "def mode(numbers):\n",
        "    freq = {}  # Dictionary to count occurrences\n",
        "    for num in numbers:\n",
        "        freq[num] = freq.get(num, 0) + 1  # Increase count\n",
        "    max_count = max(freq.values())  # Find highest count\n",
        "    return [k for k, v in freq.items() if v == max_count]  # Return most frequent number(s)\n",
        "\n",
        "print(\"Mode:\", mode(nums))\n"
      ],
      "metadata": {
        "id": "FOwouzGPQpsU"
      },
      "execution_count": null,
      "outputs": []
    },
    {
      "cell_type": "code",
      "source": [
        "# 4. Variance Calculation (Spread of Numbers)\n",
        "def variance(numbers):\n",
        "    m = mean(numbers)  # Get mean first\n",
        "    return sum((x - m) ** 2 for x in numbers) / len(numbers)  # Avg squared difference\n",
        "\n",
        "print(\"Variance:\", variance(nums))\n"
      ],
      "metadata": {
        "id": "mL_k5pZVQxPC"
      },
      "execution_count": null,
      "outputs": []
    },
    {
      "cell_type": "code",
      "source": [
        "# 5. Standard Deviation Calculation (How Spread Out Numbers Are)\n",
        "def std_dev(numbers):\n",
        "    return variance(numbers) ** 0.5  # Square root of variance\n",
        "\n",
        "print(\"Standard Deviation:\", std_dev(nums))\n"
      ],
      "metadata": {
        "id": "8YMp6Uh8Q3a6"
      },
      "execution_count": null,
      "outputs": []
    },
    {
      "cell_type": "code",
      "source": [
        "# 6. Euclidean Distance Between Two Numbers\n",
        "def euclidean_distance(p1, p2):\n",
        "    return abs(p1 - p2)  # Absolute difference\n",
        "\n",
        "print(\"Euclidean Distance (Values):\", euclidean_distance(3, 7))\n"
      ],
      "metadata": {
        "id": "rQmJfG-tRAb2"
      },
      "execution_count": null,
      "outputs": []
    },
    {
      "cell_type": "code",
      "source": [
        "# 8. Sigmoid Function (Used in AI and Probability)\n",
        "def sigmoid(x):\n",
        "    return 1 / (1 + (2.71828 ** -x))  # Approximate e = 2.71828\n",
        "\n",
        "print(\"Sigmoid Output:\", sigmoid(2))\n"
      ],
      "metadata": {
        "id": "Mww_KJbjREqt"
      },
      "execution_count": null,
      "outputs": []
    }
  ]
}