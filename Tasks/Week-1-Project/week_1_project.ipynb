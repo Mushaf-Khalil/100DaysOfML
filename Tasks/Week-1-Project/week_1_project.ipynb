{
  "nbformat": 4,
  "nbformat_minor": 0,
  "metadata": {
    "colab": {
      "private_outputs": true,
      "provenance": []
    },
    "kernelspec": {
      "name": "python3",
      "display_name": "Python 3"
    },
    "language_info": {
      "name": "python"
    }
  },
  "cells": [
    {
      "cell_type": "code",
      "execution_count": null,
      "metadata": {
        "id": "_kkC1UWIHydG"
      },
      "outputs": [],
      "source": [
        "# Question 1: User Data Collector\n",
        "def collect_user_data():\n",
        "    user_data = {}\n",
        "    user_data['name'] = input(\"Enter your name: \")\n",
        "    user_data['age'] = input(\"Enter your age: \")\n",
        "    user_data['email'] = input(\"Enter your email: \")\n",
        "\n",
        "    while '@' not in user_data['email'] or '.' not in user_data['email']:\n",
        "        print(\"Invalid email format. Please try again.\")\n",
        "        user_data['email'] = input(\"Enter your email: \")\n",
        "\n",
        "    user_data['favorite_number'] = input(\"Enter your favorite number: \")\n",
        "    print(f\"User Data: {user_data}\")\n",
        "\n",
        "collect_user_data()  # Run function\n"
      ]
    },
    {
      "cell_type": "code",
      "source": [
        "# Question 2: Even or Odd?\n",
        "def is_even(number):\n",
        "    return number % 2 == 0\n",
        "\n",
        "def check_even_odd():\n",
        "    num = int(input(\"Enter a number: \"))\n",
        "    if is_even(num):\n",
        "        print(f\"{num} is even.\")\n",
        "    else:\n",
        "        print(f\"{num} is odd.\")\n",
        "\n",
        "check_even_odd()  # Run function\n"
      ],
      "metadata": {
        "id": "lUDIemJmIKEo"
      },
      "execution_count": null,
      "outputs": []
    },
    {
      "cell_type": "code",
      "source": [
        "# Question 3: Temperature Converter\n",
        "def convert_temperature(temp, scale):\n",
        "    if scale.upper() == 'C':\n",
        "        return (temp * 9/5) + 32\n",
        "    elif scale.upper() == 'F':\n",
        "        return (temp - 32) * 5/9\n",
        "    else:\n",
        "        return \"Invalid scale\"\n",
        "\n",
        "def temperature_conversion():\n",
        "    temp = float(input(\"Enter the temperature value: \"))\n",
        "    scale = input(\"Enter the scale (C/F): \")\n",
        "    result = convert_temperature(temp, scale)\n",
        "    print(f\"Converted Temperature: {result}\")\n",
        "\n",
        "temperature_conversion()  # Run function\n"
      ],
      "metadata": {
        "id": "lXmuUzePINBv"
      },
      "execution_count": null,
      "outputs": []
    },
    {
      "cell_type": "code",
      "source": [
        "# q4 find max number\n",
        "def find_max_min(numbers_list):\n",
        "    return max(numbers_list), min(numbers_list)\n",
        "\n",
        "# Get 5 numbers from the user\n",
        "numbers = [int(input(f\"Enter number {i+1}: \")) for i in range(5)]\n",
        "\n",
        "# Find max and min\n",
        "maximum, minimum = find_max_min(numbers)\n",
        "print(f\"Maximum: {maximum}, Minimum: {minimum}\")\n"
      ],
      "metadata": {
        "id": "T7Uu4xkRIT2C"
      },
      "execution_count": null,
      "outputs": []
    },
    {
      "cell_type": "code",
      "source": [
        "#question 5  studenty manager\n",
        "students = {}\n",
        "\n",
        "# Get student details\n",
        "for i in range(3):\n",
        "    name = input(f\"Enter name of student {i+1}: \")\n",
        "    age = int(input(f\"Enter age of {name}: \"))\n",
        "    grade = input(f\"Enter grade of {name}: \")\n",
        "    students[name] = (age, grade)\n",
        "\n",
        "# Display student dictionary\n",
        "print(\"Student Data:\", students)\n"
      ],
      "metadata": {
        "id": "uKo4JYmpIx2i"
      },
      "execution_count": null,
      "outputs": []
    },
    {
      "cell_type": "code",
      "source": [
        "# Question 6: Inventory Management System\n",
        "inventory = {\"apples\": 10, \"bananas\": 5, \"oranges\": 8, \"grapes\": 12, \"mangoes\": 6}\n",
        "print(\"Initial Inventory:\", inventory)\n",
        "\n",
        "for _ in range(3):\n",
        "    item = input(\"Item: \")\n",
        "    quantity = int(input(\"Quantity (+/-): \"))\n",
        "    inventory[item] = max(0, inventory.get(item, 0) + quantity)\n",
        "\n",
        "print(\"Updated Inventory:\", inventory)\n"
      ],
      "metadata": {
        "id": "wBGja4v_I9Hy"
      },
      "execution_count": null,
      "outputs": []
    }
  ]
}