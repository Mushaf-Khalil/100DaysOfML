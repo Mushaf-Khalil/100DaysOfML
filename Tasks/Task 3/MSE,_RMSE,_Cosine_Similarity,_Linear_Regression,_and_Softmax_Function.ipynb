{
  "nbformat": 4,
  "nbformat_minor": 0,
  "metadata": {
    "colab": {
      "provenance": []
    },
    "kernelspec": {
      "name": "python3",
      "display_name": "Python 3"
    },
    "language_info": {
      "name": "python"
    }
  },
  "cells": [
    {
      "cell_type": "code",
      "execution_count": 13,
      "metadata": {
        "id": "Cynx61jtJTFk"
      },
      "outputs": [],
      "source": [
        "# Import necessary libraries\n",
        "import numpy as np\n",
        "import math\n",
        "from sklearn.metrics.pairwise import cosine_similarity\n",
        "from sklearn.linear_model import LinearRegression\n",
        "import torch"
      ]
    },
    {
      "cell_type": "code",
      "source": [
        "# 1. Mean Squared Error (MSE)\n",
        "def mse(y_true, y_pred): return np.mean((np.array(y_true) - np.array(y_pred)) ** 2)  # Avg squared difference\n",
        "\n",
        "print(\"MSE:\", mse([3, -0.5, 2, 7], [2.5, 0.0, 2, 8]))"
      ],
      "metadata": {
        "colab": {
          "base_uri": "https://localhost:8080/"
        },
        "id": "z5-_LENUK1kH",
        "outputId": "81f3e491-787c-4a18-b5bb-060e5bc239b5"
      },
      "execution_count": null,
      "outputs": [
        {
          "output_type": "stream",
          "name": "stdout",
          "text": [
            "MSE: 0.375\n"
          ]
        }
      ]
    },
    {
      "cell_type": "code",
      "source": [
        "# 2. Root Mean Squared Error (RMSE)\n",
        "def rmse(y_true, y_pred): return np.sqrt(np.mean((np.array(y_true) - np.array(y_pred)) ** 2))  # Square root of MSE\n",
        "\n",
        "print(\"RMSE:\", rmse([3, -0.5, 2, 7], [2.5, 0.0, 2, 8]))\n"
      ],
      "metadata": {
        "colab": {
          "base_uri": "https://localhost:8080/"
        },
        "id": "kmIFEfKTK6hr",
        "outputId": "e6998c7d-ff26-4029-c7cf-b2d0550b01e5"
      },
      "execution_count": 12,
      "outputs": [
        {
          "output_type": "stream",
          "name": "stdout",
          "text": [
            "RMSE: 0.6123724356957945\n"
          ]
        }
      ]
    },
    {
      "cell_type": "code",
      "source": [
        "# 3. Cosine Similarity (Simple Formula)\n",
        "def cosine_sim(v1, v2):\n",
        "    return np.dot(v1, v2) / (np.linalg.norm(v1) * np.linalg.norm(v2))  # Dot product divided by magnitudes\n",
        "\n",
        "print(\"Cosine Similarity:\", cosine_sim([1, 2, 3], [4, 5, 6]))"
      ],
      "metadata": {
        "colab": {
          "base_uri": "https://localhost:8080/"
        },
        "id": "0FzYVI5jLgj7",
        "outputId": "a6e779c0-9dd0-4a95-912f-6d408a84a79a"
      },
      "execution_count": 11,
      "outputs": [
        {
          "output_type": "stream",
          "name": "stdout",
          "text": [
            "Cosine Similarity: 0.9746318461970762\n"
          ]
        }
      ]
    },
    {
      "cell_type": "code",
      "source": [
        "# 4. Linear Regression (Manual Formula)\n",
        "def linear_regression(X, y):\n",
        "    m = (np.mean(X * y) - np.mean(X) * np.mean(y)) / (np.mean(X**2) - np.mean(X)**2)  # Slope\n",
        "    b = np.mean(y) - m * np.mean(X)  # Intercept\n",
        "    return m, b\n",
        "\n",
        "X, y = np.array([1, 2, 3, 4, 5]), np.array([2, 4, 6, 8, 10])  # 1D arrays (simpler)\n",
        "coef, intercept = linear_regression(X, y)\n",
        "print(\"Linear Regression Coeff:\", coef, \"Intercept:\", intercept)"
      ],
      "metadata": {
        "colab": {
          "base_uri": "https://localhost:8080/"
        },
        "id": "gz5hcpDlLpgJ",
        "outputId": "9a2b141b-11ad-40e7-97ea-a758b5816237"
      },
      "execution_count": 10,
      "outputs": [
        {
          "output_type": "stream",
          "name": "stdout",
          "text": [
            "Linear Regression Coeff: 2.0 Intercept: 0.0\n"
          ]
        }
      ]
    },
    {
      "cell_type": "code",
      "source": [
        "# 5. Softmax Function\n",
        "def softmax(logits): return np.exp(logits) / np.sum(np.exp(logits))  # Converts to probabilities\n",
        "\n",
        "print(\"Softmax Output:\", softmax([2.0, 1.0, 0.1]))\n"
      ],
      "metadata": {
        "colab": {
          "base_uri": "https://localhost:8080/"
        },
        "id": "vwmRBgKXL2IS",
        "outputId": "cb93b791-a0be-4647-f69e-3dda606a1e76"
      },
      "execution_count": 8,
      "outputs": [
        {
          "output_type": "stream",
          "name": "stdout",
          "text": [
            "Softmax Output: [0.65900114 0.24243297 0.09856589]\n"
          ]
        }
      ]
    }
  ]
}