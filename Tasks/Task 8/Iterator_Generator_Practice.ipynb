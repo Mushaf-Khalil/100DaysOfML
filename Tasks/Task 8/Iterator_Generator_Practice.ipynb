{
 "cells": [
  {
   "cell_type": "markdown",
   "id": "af1cee90",
   "metadata": {},
   "source": [
    "# Practicing Python Iterators and Generators\n",
    "This notebook is a hands-on practice session based on tutorials from [Real Python](https://realpython.com/python-iterators-iterables/) and [DataCamp](https://www.datacamp.com/tutorial/python-iterators-generators-tutorial)."
   ]
  },
  {
   "cell_type": "markdown",
   "id": "6635fe7b",
   "metadata": {},
   "source": [
    "## Understanding Iterables vs Iterators\n",
    "An **iterable** is an object capable of returning its members one at a time. Common examples include lists, tuples, strings, etc.\n",
    "An **iterator** is an object which implements the iterator protocol: `__iter__()` and `__next__()`."
   ]
  },
  {
   "cell_type": "code",
   "execution_count": null,
   "id": "74d6d7b2",
   "metadata": {},
   "outputs": [],
   "source": [
    "# Example: Iterable (list) and manual iteration using iterator\n",
    "my_list = [1, 2, 3]\n",
    "my_iter = iter(my_list)\n",
    "print(next(my_iter))\n",
    "print(next(my_iter))\n",
    "print(next(my_iter))"
   ]
  },
  {
   "cell_type": "markdown",
   "id": "25d3d047",
   "metadata": {},
   "source": [
    "## Creating a Custom Iterator Class\n",
    "Let's define a class that returns a countdown iterator."
   ]
  },
  {
   "cell_type": "code",
   "execution_count": null,
   "id": "b97a9f7c",
   "metadata": {},
   "outputs": [],
   "source": [
    "class Countdown:\n",
    "    def __init__(self, start):\n",
    "        self.current = start\n\n",
    "    def __iter__(self):\n",
    "        return self\n\n",
    "    def __next__(self):\n",
    "        if self.current <= 0:\n",
    "            raise StopIteration\n",
    "        else:\n",
    "            self.current -= 1\n",
    "            return self.current + 1\n\n",
    "# Using the custom iterator\n",
    "for number in Countdown(5):\n",
    "    print(number)"
   ]
  },
  {
   "cell_type": "markdown",
   "id": "fdbb3df2",
   "metadata": {},
   "source": [
    "## Generators: Writing Simple Generators Using `yield`\n",
    "Generators are simpler ways to create iterators. They use the `yield` keyword."
   ]
  },
  {
   "cell_type": "code",
   "execution_count": null,
   "id": "f3675858",
   "metadata": {},
   "outputs": [],
   "source": [
    "def even_numbers(limit):\n",
    "    for num in range(limit):\n",
    "        if num % 2 == 0:\n",
    "            yield num\n\n",
    "# Testing the generator\n",
    "for even in even_numbers(10):\n",
    "    print(even)"
   ]
  },
  {
   "cell_type": "markdown",
   "id": "a04d0d52",
   "metadata": {},
   "source": [
    "## Generator Expressions\n",
    "These are similar to list comprehensions but for generators."
   ]
  },
  {
   "cell_type": "code",
   "execution_count": null,
   "id": "5f055b7f",
   "metadata": {},
   "outputs": [],
   "source": [
    "squares = (x * x for x in range(5))\n",
    "for square in squares:\n",
    "    print(square)"
   ]
  },
  {
   "cell_type": "markdown",
   "id": "a39ac144",
   "metadata": {},
   "source": [
    "### Summary\n",
    "- Iterables and iterators allow looping through data.\n",
    "- Generators simplify creating iterators using `yield`.\n",
    "- Generator expressions are memory-efficient ways to process data."
   ]
  }
 ],
 "metadata": {},
 "nbformat": 4,
 "nbformat_minor": 5
}
